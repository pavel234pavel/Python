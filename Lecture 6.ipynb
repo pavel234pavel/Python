{
 "cells": [
  {
   "cell_type": "markdown",
   "metadata": {},
   "source": [
    "# Программирование на языке Python для сбора и анализа данных\n",
    "\n",
    "*Текст лекции: Щуров И.В., НИУ ВШЭ*\n",
    "\n",
    "Данный notebook является конспектом лекции по курсу «Программирование на языке Python для сбора и анализа данных» (НИУ ВШЭ, 2015-16). Он распространяется на условиях лицензии [Creative Commons Attribution-Share Alike 4.0](http://creativecommons.org/licenses/by-sa/4.0/). При использовании обязательно упоминание автора курса и аффилиации. При наличии технической возможности необходимо также указать активную гиперссылку на [страницу курса](http://math-info.hse.ru/s15/m). Фрагменты кода, включенные в этот notebook, публикуются как [общественное достояние](http://creativecommons.org/publicdomain/zero/1.0/).\n",
    "\n",
    "Другие материалы курса, включая конспекты и видеозаписи лекций, а также наборы задач, можно найти на [странице курса](http://math-info.hse.ru/s15/m)."
   ]
  },
  {
   "cell_type": "markdown",
   "metadata": {},
   "source": [
    "## Лекция №6. Сортировка. Форматирование строк"
   ]
  },
  {
   "cell_type": "markdown",
   "metadata": {},
   "source": [
    "Сегодняшняя лекция посвящена нескольким несвязанным сюжетам, относящимся к базовому синтаксису Python, которым не нашлось места в предыдущих лекциях."
   ]
  },
  {
   "cell_type": "markdown",
   "metadata": {},
   "source": [
    "### **kwargs"
   ]
  },
  {
   "cell_type": "markdown",
   "metadata": {},
   "source": [
    "Расскажем об одном способе передачи аргументов функции, использующем словари. Напомним два способа передачи аргументов:"
   ]
  },
  {
   "cell_type": "code",
   "execution_count": 88,
   "metadata": {
    "collapsed": true
   },
   "outputs": [],
   "source": [
    "def myfunc(x=0, y=1):\n",
    "    print(\"x =\",x)\n",
    "    print(\"y =\",y)\n"
   ]
  },
  {
   "cell_type": "code",
   "execution_count": 89,
   "metadata": {
    "collapsed": false
   },
   "outputs": [
    {
     "name": "stdout",
     "output_type": "stream",
     "text": [
      "x = 12\n",
      "y = 19\n"
     ]
    }
   ],
   "source": [
    "myfunc(12,19)"
   ]
  },
  {
   "cell_type": "code",
   "execution_count": 91,
   "metadata": {
    "collapsed": false
   },
   "outputs": [
    {
     "name": "stdout",
     "output_type": "stream",
     "text": [
      "x = 5\n",
      "y = 2\n"
     ]
    }
   ],
   "source": [
    "myfunc(y=2, x=5)"
   ]
  },
  {
   "cell_type": "markdown",
   "metadata": {},
   "source": [
    "Как показывает второй пример, аргументы можно передавать, указывая их имена. Допустим, мы хотим написать функцию, которая принимает неопределенное количество именованных аргументов (мы даже не знаем заранее, каких). Это можно сделать следующим образом:"
   ]
  },
  {
   "cell_type": "code",
   "execution_count": 92,
   "metadata": {
    "collapsed": true
   },
   "outputs": [],
   "source": [
    "def new_func(**kwargs):\n",
    "    print(kwargs)"
   ]
  },
  {
   "cell_type": "code",
   "execution_count": 93,
   "metadata": {
    "collapsed": false
   },
   "outputs": [
    {
     "name": "stdout",
     "output_type": "stream",
     "text": [
      "{'y': 5, 'x': 1, 'z': 8, 's': 'Some string'}\n"
     ]
    }
   ],
   "source": [
    "new_func(x=1, y=5, z=8, s = \"Some string\")"
   ]
  },
  {
   "cell_type": "markdown",
   "metadata": {},
   "source": [
    "Две звёздочки в определении функции `new_func()` говорят следующее: «все именованные параметры, переданные этой функции, следует поместить в словарь `kwargs`». Как видим, именно так это и работает: например, параметр `x=1` превратился в запись `'x': 1` в словаре `kwargs`. Однако, это происходит только с «бесхозными» параметрами: если бы у функции был отдельный параметр `x`, то он бы не попал в `kwargs`. Например:"
   ]
  },
  {
   "cell_type": "code",
   "execution_count": 94,
   "metadata": {
    "collapsed": false
   },
   "outputs": [
    {
     "name": "stdout",
     "output_type": "stream",
     "text": [
      "{'y': 5}\n"
     ]
    }
   ],
   "source": [
    "def other_func(x, **kwargs):\n",
    "    print(kwargs)\n",
    "other_func(x=10,y=5)"
   ]
  },
  {
   "cell_type": "markdown",
   "metadata": {},
   "source": [
    "### Сортировка"
   ]
  },
  {
   "cell_type": "markdown",
   "metadata": {},
   "source": [
    "Сортировка — то есть расположение элементов списка в каком-то определённом порядке — распространённая программистская задача. Мы не будем здесь обсуждать алгоритмы сортировки — благо, они уже все давно реализованы и вам почти наверняка не придётся реализовывать свой (хотя, конечно, разобраться с тем, как устроены [quicksort](https://ru.wikipedia.org/wiki/%D0%91%D1%8B%D1%81%D1%82%D1%80%D0%B0%D1%8F_%D1%81%D0%BE%D1%80%D1%82%D0%B8%D1%80%D0%BE%D0%B2%D0%BA%D0%B0) и [mergesort](https://ru.wikipedia.org/wiki/%D0%A1%D0%BE%D1%80%D1%82%D0%B8%D1%80%D0%BE%D0%B2%D0%BA%D0%B0_%D1%81%D0%BB%D0%B8%D1%8F%D0%BD%D0%B8%D0%B5%D0%BC), и реализовать их самостоятельно — это полезное и приятное упражнение).\n",
    "\n",
    "Для сортировки списков в Python есть два главных инструмента. Первый — метод `sort()`, выполняющий сортировку *in place*, то есть внутри самого списка. Например:"
   ]
  },
  {
   "cell_type": "code",
   "execution_count": 95,
   "metadata": {
    "collapsed": true
   },
   "outputs": [],
   "source": [
    "my_list = [6, 9, 2, 7, 12, 8]"
   ]
  },
  {
   "cell_type": "code",
   "execution_count": 96,
   "metadata": {
    "collapsed": true
   },
   "outputs": [],
   "source": [
    "my_list.sort()"
   ]
  },
  {
   "cell_type": "code",
   "execution_count": 97,
   "metadata": {
    "collapsed": false
   },
   "outputs": [
    {
     "data": {
      "text/plain": [
       "[2, 6, 7, 8, 9, 12]"
      ]
     },
     "execution_count": 97,
     "metadata": {},
     "output_type": "execute_result"
    }
   ],
   "source": [
    "my_list"
   ]
  },
  {
   "cell_type": "markdown",
   "metadata": {},
   "source": [
    "Метод `sort()` *меняет* исходный список (и поэтому, кстати, умеет работать только со списками — у кортежей такого метода нет). Если вместо этого вы хотите создать новый список, то следует использовать функцию `sorted()`."
   ]
  },
  {
   "cell_type": "code",
   "execution_count": 98,
   "metadata": {
    "collapsed": true
   },
   "outputs": [],
   "source": [
    "my_list = [6, 9, 2, 7, 12, 8]"
   ]
  },
  {
   "cell_type": "code",
   "execution_count": 101,
   "metadata": {
    "collapsed": false
   },
   "outputs": [
    {
     "data": {
      "text/plain": [
       "[2, 6, 7, 8, 9, 12]"
      ]
     },
     "execution_count": 101,
     "metadata": {},
     "output_type": "execute_result"
    }
   ],
   "source": [
    "sorted_list = sorted(my_list)\n",
    "sorted_list"
   ]
  },
  {
   "cell_type": "markdown",
   "metadata": {},
   "source": [
    "Так мы создали новый список. Старый при этом остался без изменений."
   ]
  },
  {
   "cell_type": "code",
   "execution_count": 102,
   "metadata": {
    "collapsed": false
   },
   "outputs": [
    {
     "data": {
      "text/plain": [
       "[6, 9, 2, 7, 12, 8]"
      ]
     },
     "execution_count": 102,
     "metadata": {},
     "output_type": "execute_result"
    }
   ],
   "source": [
    "my_list"
   ]
  },
  {
   "cell_type": "markdown",
   "metadata": {},
   "source": [
    "Функцию `sorted()` можно применять не только к спискам, но и к неизменяемым последовательностям — например, к кортежам. На выходе всегда получается список."
   ]
  },
  {
   "cell_type": "code",
   "execution_count": 104,
   "metadata": {
    "collapsed": false
   },
   "outputs": [
    {
     "name": "stdout",
     "output_type": "stream",
     "text": [
      "[1, 2, 6, 7]\n"
     ]
    }
   ],
   "source": [
    "my_tuple = (7, 1, 2, 6)\n",
    "print (sorted(my_tuple))"
   ]
  },
  {
   "cell_type": "markdown",
   "metadata": {},
   "source": [
    "### Сортировка строк"
   ]
  },
  {
   "cell_type": "markdown",
   "metadata": {},
   "source": [
    "Сортировать можно списки, состоящие не только из чисел, но и из более сложных объектов — лишь бы умели сравнивать их между собой. Например, строки можно сравнивать между собой — они упорядочены в *лексикографическом порядке*, то есть «по алфавиту» и так, как они шли бы в словаре (имеется в виду обычный бумажный словарь, а не тип данных Python)."
   ]
  },
  {
   "cell_type": "code",
   "execution_count": 107,
   "metadata": {
    "collapsed": false
   },
   "outputs": [
    {
     "data": {
      "text/plain": [
       "True"
      ]
     },
     "execution_count": 107,
     "metadata": {},
     "output_type": "execute_result"
    }
   ],
   "source": [
    "\"abcd\" < \"b\""
   ]
  },
  {
   "cell_type": "code",
   "execution_count": 108,
   "metadata": {
    "collapsed": false
   },
   "outputs": [
    {
     "data": {
      "text/plain": [
       "True"
      ]
     },
     "execution_count": 108,
     "metadata": {},
     "output_type": "execute_result"
    }
   ],
   "source": [
    "\"abcd\" < \"addd\" # Первая буква совпадает, сравниваем вторую"
   ]
  },
  {
   "cell_type": "code",
   "execution_count": 109,
   "metadata": {
    "collapsed": false
   },
   "outputs": [
    {
     "data": {
      "text/plain": [
       "True"
      ]
     },
     "execution_count": 109,
     "metadata": {},
     "output_type": "execute_result"
    }
   ],
   "source": [
    "\"a\" < \"aa\""
   ]
  },
  {
   "cell_type": "markdown",
   "metadata": {},
   "source": [
    "Вот так выглядит сортировка списка из строк:"
   ]
  },
  {
   "cell_type": "code",
   "execution_count": 110,
   "metadata": {
    "collapsed": false
   },
   "outputs": [
    {
     "data": {
      "text/plain": [
       "['Alice', 'Bill', 'Bob', 'Weigu']"
      ]
     },
     "execution_count": 110,
     "metadata": {},
     "output_type": "execute_result"
    }
   ],
   "source": [
    "str_list = [\"Bob\", \"Alice\", \"Bill\", \"Weigu\"]\n",
    "str_list.sort()\n",
    "str_list"
   ]
  },
  {
   "cell_type": "markdown",
   "metadata": {},
   "source": [
    "### Сортировка и циклы"
   ]
  },
  {
   "cell_type": "markdown",
   "metadata": {},
   "source": [
    "Можно использовать функцию `sorted()` совместно с оператором `for` чтобы обрабатывать элементы списка в каком-то определённом порядке. Например, у нас есть словарь и мы хотим вывести его элементы в порядке возрастания значения ключа. Тогда об этом надо явно попросить Python, как показывает следующий пример:"
   ]
  },
  {
   "cell_type": "code",
   "execution_count": 113,
   "metadata": {
    "collapsed": false
   },
   "outputs": [
    {
     "name": "stdout",
     "output_type": "stream",
     "text": [
      "Bill 2\n",
      "Alice 5\n",
      "Bob 3\n",
      "Weigu 4\n"
     ]
    }
   ],
   "source": [
    "gradebook = {'Bob': 3,  'Alice': 5, 'Weigu': 4, 'Bill': 2}\n",
    "for k in gradebook:\n",
    "    print(k, gradebook[k])"
   ]
  },
  {
   "cell_type": "markdown",
   "metadata": {},
   "source": [
    "Как видите, элементы не упорядочены. Вот так их можно упорядочить при выводе:"
   ]
  },
  {
   "cell_type": "code",
   "execution_count": 114,
   "metadata": {
    "collapsed": false
   },
   "outputs": [
    {
     "name": "stdout",
     "output_type": "stream",
     "text": [
      "Alice 5\n",
      "Bill 2\n",
      "Bob 3\n",
      "Weigu 4\n"
     ]
    }
   ],
   "source": [
    "for k in sorted(gradebook):\n",
    "    print(k, gradebook[k]) "
   ]
  },
  {
   "cell_type": "markdown",
   "metadata": {},
   "source": [
    "### Более сложные примеры сортировки"
   ]
  },
  {
   "cell_type": "markdown",
   "metadata": {},
   "source": [
    "Можно сортировать список в обратном порядке (по убыванию). Для этого используется параметр `reverse`."
   ]
  },
  {
   "cell_type": "code",
   "execution_count": 115,
   "metadata": {
    "collapsed": false
   },
   "outputs": [
    {
     "data": {
      "text/plain": [
       "[8, 7, 4, 1]"
      ]
     },
     "execution_count": 115,
     "metadata": {},
     "output_type": "execute_result"
    }
   ],
   "source": [
    "sorted([4, 8, 1, 7], reverse=True)"
   ]
  },
  {
   "cell_type": "markdown",
   "metadata": {},
   "source": [
    "Можно сортировать не только числа и строки, но и более сложные объекты. Нарпимер, рассмотрим такую табличку (реализованную как список кортежей), в которой записаны имена студентов и их оценки по нескольким работам."
   ]
  },
  {
   "cell_type": "code",
   "execution_count": 119,
   "metadata": {
    "collapsed": true
   },
   "outputs": [],
   "source": [
    "names = [(\"Bob\", 8, 4, 9),\n",
    "         (\"Alice\", 7, 8, 9), \n",
    "         (\"Weigu\", 7, 5, 3), \n",
    "         (\"Dan\", 6, 4, 3)]"
   ]
  },
  {
   "cell_type": "code",
   "execution_count": 120,
   "metadata": {
    "collapsed": true
   },
   "outputs": [],
   "source": [
    "names.sort()"
   ]
  },
  {
   "cell_type": "code",
   "execution_count": 121,
   "metadata": {
    "collapsed": false
   },
   "outputs": [
    {
     "data": {
      "text/plain": [
       "[('Alice', 7, 8, 9), ('Bob', 8, 4, 9), ('Dan', 6, 4, 3), ('Weigu', 7, 5, 3)]"
      ]
     },
     "execution_count": 121,
     "metadata": {},
     "output_type": "execute_result"
    }
   ],
   "source": [
    "names"
   ]
  },
  {
   "cell_type": "markdown",
   "metadata": {},
   "source": [
    "Судя по результату, логично предположить, что сортировка была выполнена по первому элементу — имени студента. Действительно, кортежи сравниваются примерно так же, как строки, лексикографически. Сначала сравниваются первые элементы:"
   ]
  },
  {
   "cell_type": "code",
   "execution_count": 124,
   "metadata": {
    "collapsed": false
   },
   "outputs": [
    {
     "data": {
      "text/plain": [
       "True"
      ]
     },
     "execution_count": 124,
     "metadata": {},
     "output_type": "execute_result"
    }
   ],
   "source": [
    "('a', 8) < ('b', 7)"
   ]
  },
  {
   "cell_type": "markdown",
   "metadata": {},
   "source": [
    "Если первый элемент совпадает, то сравниваются вторые элементы и т.д."
   ]
  },
  {
   "cell_type": "code",
   "execution_count": 125,
   "metadata": {
    "collapsed": false
   },
   "outputs": [
    {
     "data": {
      "text/plain": [
       "False"
      ]
     },
     "execution_count": 125,
     "metadata": {},
     "output_type": "execute_result"
    }
   ],
   "source": [
    "('a', 8) < ('a', 7)"
   ]
  },
  {
   "cell_type": "markdown",
   "metadata": {},
   "source": [
    "А что делать, если бы нам захотелось отсортировать кортежи в списке `names` не по первому элементу, а по второму или ещё какому-нибудь? Для этого необходимо использовать параметр `key`, задающий ключ сортировки. Прежде, чем мы это сделаем, нужно сказать несколько слов о том, как можно одной функции передать другую функцию в качестве параметра."
   ]
  },
  {
   "cell_type": "markdown",
   "metadata": {},
   "source": [
    "### Отступление: функции как аргументы функций"
   ]
  },
  {
   "cell_type": "markdown",
   "metadata": {},
   "source": [
    "Рассмотрим такую функцию:"
   ]
  },
  {
   "cell_type": "code",
   "execution_count": 126,
   "metadata": {
    "collapsed": true
   },
   "outputs": [],
   "source": [
    "def superfunc(f):\n",
    "    return f(2)"
   ]
  },
  {
   "cell_type": "markdown",
   "metadata": {},
   "source": [
    "В качестве аргумента она принимает какую-то функцию `f`, вызывает эту функцию передаёт ей в качестве аргумента число 2 и возвращает тот результат, который вернула `f`.\n",
    "\n",
    "Например:"
   ]
  },
  {
   "cell_type": "code",
   "execution_count": 129,
   "metadata": {
    "collapsed": false
   },
   "outputs": [
    {
     "data": {
      "text/plain": [
       "1.4142135623730951"
      ]
     },
     "execution_count": 129,
     "metadata": {},
     "output_type": "execute_result"
    }
   ],
   "source": [
    "from math import sqrt\n",
    "superfunc(sqrt)"
   ]
  },
  {
   "cell_type": "markdown",
   "metadata": {},
   "source": [
    "Что здесь произошло? Мы импортировали функцию `sqrt()` из модуля `math`, после чего передали функции `superfunc()` функцию `sqrt` в качестве параметра. Обратите внимание: при передаче после функции `sqrt` нет скобок: это потому, что мы её не *вызываем*, а *передаём* другой функции. Функция `superfunc` взяла нашу функцию `sqrt` и вызвала её, передав ей число 2 в качестве параметра. То есть вычислила корень из двух. \n",
    "\n",
    "Можете представить себе, что `sqrt` — это рецепт, записанный на бумажке. Мы передаём его в виде такой бумажки функции `superfunc` и она его как-то использует. Передадим другую бумажку — она использует её. Например:"
   ]
  },
  {
   "cell_type": "code",
   "execution_count": 133,
   "metadata": {
    "collapsed": true
   },
   "outputs": [],
   "source": [
    "def plusodin(x):\n",
    "    return x + 1"
   ]
  },
  {
   "cell_type": "code",
   "execution_count": 134,
   "metadata": {
    "collapsed": false
   },
   "outputs": [
    {
     "data": {
      "text/plain": [
       "3"
      ]
     },
     "execution_count": 134,
     "metadata": {},
     "output_type": "execute_result"
    }
   ],
   "source": [
    "superfunc(plusodin)"
   ]
  },
  {
   "cell_type": "markdown",
   "metadata": {},
   "source": [
    "Если мы попробуем передать функции `superfunc` что-то другое — например, строчку или число — ничего не получится (она ожидает именно функцию)."
   ]
  },
  {
   "cell_type": "code",
   "execution_count": 135,
   "metadata": {
    "collapsed": false
   },
   "outputs": [
    {
     "ename": "TypeError",
     "evalue": "'str' object is not callable",
     "output_type": "error",
     "traceback": [
      "\u001b[0;31m---------------------------------------------------------------------------\u001b[0m",
      "\u001b[0;31mTypeError\u001b[0m                                 Traceback (most recent call last)",
      "\u001b[0;32m<ipython-input-135-1d3f3cbd81ed>\u001b[0m in \u001b[0;36m<module>\u001b[0;34m()\u001b[0m\n\u001b[0;32m----> 1\u001b[0;31m \u001b[0msuperfunc\u001b[0m\u001b[0;34m(\u001b[0m\u001b[0;34m\"sqrt\"\u001b[0m\u001b[0;34m)\u001b[0m\u001b[0;34m\u001b[0m\u001b[0m\n\u001b[0m",
      "\u001b[0;32m<ipython-input-126-621fdda2e116>\u001b[0m in \u001b[0;36msuperfunc\u001b[0;34m(f)\u001b[0m\n\u001b[1;32m      1\u001b[0m \u001b[0;32mdef\u001b[0m \u001b[0msuperfunc\u001b[0m\u001b[0;34m(\u001b[0m\u001b[0mf\u001b[0m\u001b[0;34m)\u001b[0m\u001b[0;34m:\u001b[0m\u001b[0;34m\u001b[0m\u001b[0m\n\u001b[0;32m----> 2\u001b[0;31m     \u001b[0;32mreturn\u001b[0m \u001b[0mf\u001b[0m\u001b[0;34m(\u001b[0m\u001b[0;36m2\u001b[0m\u001b[0;34m)\u001b[0m\u001b[0;34m\u001b[0m\u001b[0m\n\u001b[0m",
      "\u001b[0;31mTypeError\u001b[0m: 'str' object is not callable"
     ]
    }
   ],
   "source": [
    "superfunc(\"sqrt\")"
   ]
  },
  {
   "cell_type": "markdown",
   "metadata": {},
   "source": [
    "### Ключи сортировки"
   ]
  },
  {
   "cell_type": "markdown",
   "metadata": {},
   "source": [
    "Вернёмся к задаче о сортировке таблицы, представленной в виде списка кортежей. Чтобы отсортировать такой список по второму элементу, необходимо сначала создать функцию, которая будет возвращать второй элемент переданного ей кортежа (или списка)."
   ]
  },
  {
   "cell_type": "code",
   "execution_count": 136,
   "metadata": {
    "collapsed": true
   },
   "outputs": [],
   "source": [
    "def get_second_element(x):\n",
    "    return x[1]"
   ]
  },
  {
   "cell_type": "markdown",
   "metadata": {},
   "source": [
    "Посмотрим, как она работает:"
   ]
  },
  {
   "cell_type": "code",
   "execution_count": 137,
   "metadata": {
    "collapsed": false
   },
   "outputs": [
    {
     "data": {
      "text/plain": [
       "8"
      ]
     },
     "execution_count": 137,
     "metadata": {},
     "output_type": "execute_result"
    }
   ],
   "source": [
    "get_second_element([7, 8, 4, 2])"
   ]
  },
  {
   "cell_type": "markdown",
   "metadata": {},
   "source": [
    "Теперь мы передаем эту функцию в качестве параметра `key` методу `sort()` (функция `sorted()` тоже сработает):"
   ]
  },
  {
   "cell_type": "code",
   "execution_count": 138,
   "metadata": {
    "collapsed": true
   },
   "outputs": [],
   "source": [
    "names.sort(key=get_second_element)"
   ]
  },
  {
   "cell_type": "code",
   "execution_count": 139,
   "metadata": {
    "collapsed": false
   },
   "outputs": [
    {
     "data": {
      "text/plain": [
       "[('Dan', 6, 4, 3), ('Alice', 7, 8, 9), ('Weigu', 7, 5, 3), ('Bob', 8, 4, 9)]"
      ]
     },
     "execution_count": 139,
     "metadata": {},
     "output_type": "execute_result"
    }
   ],
   "source": [
    "names"
   ]
  },
  {
   "cell_type": "markdown",
   "metadata": {},
   "source": [
    "Видно, что теперь строки оказались упорядочены по второму столбцу (первой оценке): у `Dan` она самая низкая (`6`), у `Bob` самая высокая (`8`), а у `Alice` и `Weigu` одинаковые (`7`).\n",
    "\n",
    "Возникает естественный вопрос: а как упорядочены в этом случае строчки, соответствующие `Alice` и `Weigu`? Ответ: в том порядке, в котором они шли в исходном списке. Это бывает удобно, если вы хотите упорядочить сначала по одному параметру, а потом по другому: просто выполните сортировку последовательно, сначала по *второму* параметру, а потом по первому."
   ]
  },
  {
   "cell_type": "markdown",
   "metadata": {},
   "source": [
    "Чтобы не определять каждый раз функцию типа `get_second_element` можно использовать готовую: для этого надо импортировать специальную функцию `itemgetter`:"
   ]
  },
  {
   "cell_type": "code",
   "execution_count": 140,
   "metadata": {
    "collapsed": true
   },
   "outputs": [],
   "source": [
    "from operator import itemgetter"
   ]
  },
  {
   "cell_type": "code",
   "execution_count": 143,
   "metadata": {
    "collapsed": false
   },
   "outputs": [
    {
     "data": {
      "text/plain": [
       "[('Dan', 6, 4, 3), ('Bob', 8, 4, 9), ('Weigu', 7, 5, 3), ('Alice', 7, 8, 9)]"
      ]
     },
     "execution_count": 143,
     "metadata": {},
     "output_type": "execute_result"
    }
   ],
   "source": [
    "sorted(names, key=itemgetter(2))\n",
    "# упорядочили по третьему столбцу"
   ]
  },
  {
   "cell_type": "code",
   "execution_count": 149,
   "metadata": {
    "collapsed": false
   },
   "outputs": [
    {
     "data": {
      "text/plain": [
       "[('Dan', 6, 4, 3), ('Weigu', 7, 5, 3), ('Bob', 8, 4, 9), ('Alice', 7, 8, 9)]"
      ]
     },
     "execution_count": 149,
     "metadata": {},
     "output_type": "execute_result"
    }
   ],
   "source": [
    "sorted(names, key=itemgetter(3))\n",
    "# упорядочили по четвертому столбцу"
   ]
  },
  {
   "cell_type": "markdown",
   "metadata": {},
   "source": [
    "Допустим, мы хотим упорядочить по третьему столбцу, а если третий столбец даёт одну и ту же оценку, то по алфавиту. Это можно сделать так: *сначала* упорядочим по алфавиту, а *потом* — по третьему столбцу."
   ]
  },
  {
   "cell_type": "code",
   "execution_count": 150,
   "metadata": {
    "collapsed": false
   },
   "outputs": [
    {
     "name": "stdout",
     "output_type": "stream",
     "text": [
      "[('Bob', 8, 4, 9), ('Dan', 6, 4, 3), ('Weigu', 7, 5, 3), ('Alice', 7, 8, 9)]\n",
      "[('Alice', 7, 8, 9), ('Bob', 8, 4, 9), ('Dan', 6, 4, 3), ('Weigu', 7, 5, 3)]\n",
      "[('Bob', 8, 4, 9), ('Dan', 6, 4, 3), ('Weigu', 7, 5, 3), ('Alice', 7, 8, 9)]\n"
     ]
    }
   ],
   "source": [
    "print(names)\n",
    "names.sort(key=itemgetter(0))\n",
    "print(names)\n",
    "names.sort(key=itemgetter(2))\n",
    "print(names)"
   ]
  },
  {
   "cell_type": "markdown",
   "metadata": {},
   "source": [
    "Больше подробностей о сортировке можно найти в [официальном tutorial](https://docs.python.org/3/howto/sorting.html), а мы перейдём к следующей теме."
   ]
  },
  {
   "cell_type": "markdown",
   "metadata": {},
   "source": [
    "### Форматирование строк"
   ]
  },
  {
   "cell_type": "markdown",
   "metadata": {},
   "source": [
    "Зачастую требуется вставить значение каких-то переменных в какую-то строчку. Пример, который нам уже встречался."
   ]
  },
  {
   "cell_type": "code",
   "execution_count": 151,
   "metadata": {
    "collapsed": false
   },
   "outputs": [
    {
     "name": "stdout",
     "output_type": "stream",
     "text": [
      "Student Alice has grade 5\n"
     ]
    }
   ],
   "source": [
    "name = \"Alice\"\n",
    "grade = 5\n",
    "print(\"Student\", name,\"has grade\", grade)"
   ]
  },
  {
   "cell_type": "markdown",
   "metadata": {},
   "source": [
    "С помощью `print()` можно вывести такую строку на печать, но если бы мы хотели передать её какой-то другой функции, то надо было бы придумывать что-то другое. И это другое уже придумано!\n",
    "\n",
    "Есть два распространённых способа подставлять значение переменных в строку (это часто называется *интерполяцией*, хотя не имеет никакого отношения к одноименной математической операции). Первый способ более классический."
   ]
  },
  {
   "cell_type": "code",
   "execution_count": 152,
   "metadata": {
    "collapsed": false
   },
   "outputs": [
    {
     "name": "stdout",
     "output_type": "stream",
     "text": [
      "Student Alice has grade 5\n"
     ]
    }
   ],
   "source": [
    "new_str = \"Student %s has grade %i\" % (name, grade)\n",
    "print(new_str)"
   ]
  },
  {
   "cell_type": "markdown",
   "metadata": {},
   "source": [
    "Здесь используется оператор `%`, который для строк делает следующую операцию: берёт строку слева от него, находит там все «поля для подстановки» (*placeholders*) — в данном случае это `%s` и `%i`, после чего берёт переменные, перечисленные справа от него (это может быть одна переменная или кортеж из нескольких переменных, как в данном случае) и подставляет их последовательно — первую переменную на место первого placeholder, вторую на место второго и т.д.\n",
    "\n",
    "Буквы в обозначениях placeholders означают тип переменной: в данном случае `%s` — это строка, а `%i` — целое число. Вот ещё несколько примеров:"
   ]
  },
  {
   "cell_type": "code",
   "execution_count": 172,
   "metadata": {
    "collapsed": false
   },
   "outputs": [
    {
     "name": "stdout",
     "output_type": "stream",
     "text": [
      "The number is 2\n",
      "The number is 2.000000\n",
      "The number is 2.14\n",
      "The number is 0003\n"
     ]
    }
   ],
   "source": [
    "print(\"The number is %i\" % 2.3)\n",
    "print(\"The number is %f\" % 2) # f значит float\n",
    "print(\"The number is %.2f\" % 2.1393) # два знака после точки\n",
    "print(\"The number is %04i\" % 3) # дополнить до четырёх знаков нулями\n"
   ]
  },
  {
   "cell_type": "markdown",
   "metadata": {},
   "source": [
    "При использовании оператор `%` нужно быть осторожным: он имеет приоритет по сравнению с арифметическими операциями, поэтому вы можете получить неожиданный результат, если не поставите скобки:"
   ]
  },
  {
   "cell_type": "code",
   "execution_count": 173,
   "metadata": {
    "collapsed": false
   },
   "outputs": [
    {
     "name": "stdout",
     "output_type": "stream",
     "text": [
      "a = 3a = 3a = 3\n"
     ]
    }
   ],
   "source": [
    "print(\"a = %i\" % 3*3)"
   ]
  },
  {
   "cell_type": "markdown",
   "metadata": {},
   "source": [
    "Здесь произошло следующее: сначала выполнился код `\"a = %i\" % 3`, а потом результат умножился на 3 (что для строчек эквивалентно трёхкратному повторению). Если вы хотели подставить результат выполнения `3*3`, то нужно было сделать вот так:"
   ]
  },
  {
   "cell_type": "code",
   "execution_count": 174,
   "metadata": {
    "collapsed": false
   },
   "outputs": [
    {
     "name": "stdout",
     "output_type": "stream",
     "text": [
      "a = 9\n"
     ]
    }
   ],
   "source": [
    "print(\"a = %i\" % (3*3))"
   ]
  },
  {
   "cell_type": "markdown",
   "metadata": {},
   "source": [
    "Второй способ форматирования («новый») заключается в использовании метода `format()`. Он действует примерно так:"
   ]
  },
  {
   "cell_type": "code",
   "execution_count": 175,
   "metadata": {
    "collapsed": false
   },
   "outputs": [
    {
     "data": {
      "text/plain": [
       "'hello, 7, this is 9, again 7, test'"
      ]
     },
     "execution_count": 175,
     "metadata": {},
     "output_type": "execute_result"
    }
   ],
   "source": [
    "\"hello, {0}, this is {1}, again {0}, {var}\".format(7, 9, var=\"test\")"
   ]
  },
  {
   "cell_type": "markdown",
   "metadata": {},
   "source": [
    "Здесь не приходится явно указывать типы данных (подставляется строковое представление переменной). Одно и то же значение может использоваться несколько раз (к ним можно обращаться по номерам и именам. Впрочем, можно и не указывать явно номера — тогда переменые будут подставляться по очереди:"
   ]
  },
  {
   "cell_type": "code",
   "execution_count": 177,
   "metadata": {
    "collapsed": false
   },
   "outputs": [
    {
     "data": {
      "text/plain": [
       "'Fist var: 8, the second one: 1'"
      ]
     },
     "execution_count": 177,
     "metadata": {},
     "output_type": "execute_result"
    }
   ],
   "source": [
    "\"Fist var: {}, the second one: {}\".format(8, 1)"
   ]
  },
  {
   "cell_type": "markdown",
   "metadata": {},
   "source": [
    "Форматирование может быть довольно сложным и никто не в силах запомнить все тонкости. Неплохая документация на эту тему (как по оператору `%`, так и по методу `format()`) собрана [здесь](https://pyformat.info/)."
   ]
  },
  {
   "cell_type": "markdown",
   "metadata": {},
   "source": [
    "### Хитрости с вещественными числами"
   ]
  },
  {
   "cell_type": "markdown",
   "metadata": {},
   "source": [
    "Кстати:"
   ]
  },
  {
   "cell_type": "code",
   "execution_count": 180,
   "metadata": {
    "collapsed": false
   },
   "outputs": [
    {
     "name": "stdout",
     "output_type": "stream",
     "text": [
      "0.300000\n"
     ]
    }
   ],
   "source": [
    "print(\"%f\" % (0.1+0.2))"
   ]
  },
  {
   "cell_type": "markdown",
   "metadata": {},
   "source": [
    "Вроде бы, ничео неожиданно, но давайте увеличим точность…"
   ]
  },
  {
   "cell_type": "code",
   "execution_count": 194,
   "metadata": {
    "collapsed": false
   },
   "outputs": [
    {
     "name": "stdout",
     "output_type": "stream",
     "text": [
      "0.300000000000000044\n"
     ]
    }
   ],
   "source": [
    "print(\"%.18f\" % (0.1+0.2))"
   ]
  },
  {
   "cell_type": "markdown",
   "metadata": {},
   "source": [
    "Когда мы попросили вывести результат с точностью 18 знаков после запятой, откуда-то взялись непонятные значащие цифры в конце. Это связано с тем фактом, что компьютеры используют двоичную систему счисления, а в ней числа типа `0.1` записываются в виде *бесконечной* периодической дроби и не могут быть представлены в виде конечной дроби. При арифметических операциях возникают ошибки округления, которые и приводят к таким эффектам.\n",
    "\n",
    "Иногда эти эффекты становятся опасными. Вы думаете, что `0.1 + 0.2` это `0.3`? У вашего компьютера другое мнение на этот счёт:"
   ]
  },
  {
   "cell_type": "code",
   "execution_count": 186,
   "metadata": {
    "collapsed": false
   },
   "outputs": [
    {
     "data": {
      "text/plain": [
       "False"
      ]
     },
     "execution_count": 186,
     "metadata": {},
     "output_type": "execute_result"
    }
   ],
   "source": [
    "0.1 + 0.2 == 0.3"
   ]
  },
  {
   "cell_type": "markdown",
   "metadata": {},
   "source": [
    "Однако, не стоит отчаиваться: вы можете использовать обыкновенные дроби или специальный модуль `decimal` для работы с десятичными дробями."
   ]
  },
  {
   "cell_type": "code",
   "execution_count": 72,
   "metadata": {
    "collapsed": true
   },
   "outputs": [],
   "source": [
    "from fractions import Fraction"
   ]
  },
  {
   "cell_type": "code",
   "execution_count": 192,
   "metadata": {
    "collapsed": false
   },
   "outputs": [
    {
     "data": {
      "text/plain": [
       "Fraction(3, 10)"
      ]
     },
     "execution_count": 192,
     "metadata": {},
     "output_type": "execute_result"
    }
   ],
   "source": [
    "Fraction(1, 10) + Fraction(2, 10)"
   ]
  },
  {
   "cell_type": "code",
   "execution_count": 193,
   "metadata": {
    "collapsed": false
   },
   "outputs": [
    {
     "data": {
      "text/plain": [
       "Fraction(5, 6)"
      ]
     },
     "execution_count": 193,
     "metadata": {},
     "output_type": "execute_result"
    }
   ],
   "source": [
    "Fraction(1, 3) + Fraction(1,2)"
   ]
  },
  {
   "cell_type": "code",
   "execution_count": 188,
   "metadata": {
    "collapsed": true
   },
   "outputs": [],
   "source": [
    "from decimal import Decimal"
   ]
  },
  {
   "cell_type": "code",
   "execution_count": 190,
   "metadata": {
    "collapsed": false
   },
   "outputs": [
    {
     "data": {
      "text/plain": [
       "Decimal('0.3')"
      ]
     },
     "execution_count": 190,
     "metadata": {},
     "output_type": "execute_result"
    }
   ],
   "source": [
    "Decimal(\"0.1\")+Decimal(\"0.2\")"
   ]
  },
  {
   "cell_type": "code",
   "execution_count": 191,
   "metadata": {
    "collapsed": false
   },
   "outputs": [
    {
     "data": {
      "text/plain": [
       "True"
      ]
     },
     "execution_count": 191,
     "metadata": {},
     "output_type": "execute_result"
    }
   ],
   "source": [
    "Decimal(\"0.1\") + Decimal(\"0.2\") == Decimal(\"0.3\")"
   ]
  },
  {
   "cell_type": "markdown",
   "metadata": {},
   "source": [
    "Здравый смысл восторжествовал! Он всегда торжествует. Рано или поздно.\n",
    "\n",
    "Подробнее о десятичных и бинарных дробях можно прочитать в [официальной документации](https://docs.python.org/3/tutorial/floatingpoint.html#tut-fp-issues). А мы на этом на сегодня закончим."
   ]
  }
 ],
 "metadata": {
  "kernelspec": {
   "display_name": "Python 3",
   "language": "python",
   "name": "python3"
  },
  "language_info": {
   "codemirror_mode": {
    "name": "ipython",
    "version": 3
   },
   "file_extension": ".py",
   "mimetype": "text/x-python",
   "name": "python",
   "nbconvert_exporter": "python",
   "pygments_lexer": "ipython3",
   "version": "3.5.0"
  }
 },
 "nbformat": 4,
 "nbformat_minor": 0
}
