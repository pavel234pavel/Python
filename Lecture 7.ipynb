{
 "cells": [
  {
   "cell_type": "markdown",
   "metadata": {},
   "source": [
    "# Программирование на языке Python для сбора и анализа данных\n",
    "\n",
    "*Текст лекции: Щуров И.В., НИУ ВШЭ*\n",
    "\n",
    "Данный notebook является конспектом лекции по курсу «Программирование на языке Python для сбора и анализа данных» (НИУ ВШЭ, 2015-16). Он распространяется на условиях лицензии [Creative Commons Attribution-Share Alike 4.0](http://creativecommons.org/licenses/by-sa/4.0/). При использовании обязательно упоминание автора курса и аффилиации. При наличии технической возможности необходимо также указать активную гиперссылку на [страницу курса](http://math-info.hse.ru/s15/m). Фрагменты кода, включенные в этот notebook, публикуются как [общественное достояние](http://creativecommons.org/publicdomain/zero/1.0/).\n",
    "\n",
    "Другие материалы курса, включая конспекты и видеозаписи лекций, а также наборы задач, можно найти на [странице курса](http://math-info.hse.ru/s15/m)."
   ]
  },
  {
   "cell_type": "markdown",
   "metadata": {},
   "source": [
    "## Лекция №7. Особенности работы с изменяемыми типами данных. Множества. Ещё немного про строки. Файловый ввод-вывод"
   ]
  },
  {
   "cell_type": "markdown",
   "metadata": {},
   "source": [
    "### Особенности работы с изменяемыми типами данных\n",
    "Для начала я хотел бы обсудить некоторые тонкости при работе со списками, словарями и другими изменяемыми типами данных. Рассмотрим простой пример вызова функции."
   ]
  },
  {
   "cell_type": "code",
   "execution_count": 1,
   "metadata": {
    "collapsed": true
   },
   "outputs": [],
   "source": [
    "def my_func(x):\n",
    "    x = x + 1\n",
    "    return x"
   ]
  },
  {
   "cell_type": "markdown",
   "metadata": {},
   "source": [
    "Эта функция увеличивает свой аргумент на единицу и возвращает то, что получилось."
   ]
  },
  {
   "cell_type": "code",
   "execution_count": 2,
   "metadata": {
    "collapsed": false
   },
   "outputs": [
    {
     "name": "stdout",
     "output_type": "stream",
     "text": [
      "Function returns 6\n",
      "y = 5\n"
     ]
    }
   ],
   "source": [
    "y = 5\n",
    "print(\"Function returns\", my_func(y))\n",
    "print(\"y =\", y)"
   ]
  },
  {
   "cell_type": "markdown",
   "metadata": {},
   "source": [
    "Ничего неожиданного. Функция не изменила переменную `y` и не должна была этого делать. Давайте теперь попробуем сделать что-то аналогичное со списком."
   ]
  },
  {
   "cell_type": "code",
   "execution_count": 3,
   "metadata": {
    "collapsed": true
   },
   "outputs": [],
   "source": [
    "def other_func(my_list):\n",
    "    my_list.append(1)\n",
    "    return my_list"
   ]
  },
  {
   "cell_type": "markdown",
   "metadata": {},
   "source": [
    "Эта функция получает в качестве аргумента список, добавляет к нему в конец элемент `1` и возвращает то, что получилось. Попробуем её вызвать:"
   ]
  },
  {
   "cell_type": "code",
   "execution_count": 4,
   "metadata": {
    "collapsed": false
   },
   "outputs": [
    {
     "name": "stdout",
     "output_type": "stream",
     "text": [
      "this_list before function: [6, 9, 33]\n",
      "function returns: [6, 9, 33, 1]\n",
      "this_list after function [6, 9, 33, 1]\n"
     ]
    }
   ],
   "source": [
    "this_list = [6, 9, 33]\n",
    "print(\"this_list before function:\",this_list)\n",
    "print(\"function returns:\",other_func(this_list))\n",
    "print(\"this_list after function\", this_list)"
   ]
  },
  {
   "cell_type": "markdown",
   "metadata": {},
   "source": [
    "Ой. Произошло что-то странное. Функция `other_func` модифицировала список, который ей был передан, хотя создан он был вне этой функций и внутри функции не был определён как `global` (да и вообще, внутри функции работа велась с другой переменной).\n",
    "\n",
    "Почему это произошло? Чтобы разобрать в этом вопросе, проще всего посмотреть на визуализацию."
   ]
  },
  {
   "cell_type": "code",
   "execution_count": 5,
   "metadata": {
    "collapsed": false
   },
   "outputs": [],
   "source": [
    "%load_ext tutormagic"
   ]
  },
  {
   "cell_type": "code",
   "execution_count": 6,
   "metadata": {
    "collapsed": false
   },
   "outputs": [
    {
     "data": {
      "text/html": [
       "\n",
       "        <iframe\n",
       "            width=\"90%\"\n",
       "            height=\"350\"\n",
       "            src=\"http://pythontutor.com/iframe-embed.html#code=def%20other_func%28my_list%29%3A%0A%20%20%20%20my_list.append%281%29%0A%20%20%20%20return%20my_list%0A%0Athis_list%20%3D%20%5B6%2C%209%2C%2033%5D%0Aother_func%28this_list%29&origin=opt-frontend.js&cumulative=false&heapPrimitives=false&textReferences=false&py=3&rawInputLstJSON=%5B%5D&curInstr=0&codeDivWidth=50%25&codeDivHeight=100%25\"\n",
       "            frameborder=\"0\"\n",
       "            allowfullscreen\n",
       "        ></iframe>\n",
       "        "
      ],
      "text/plain": [
       "<IPython.lib.display.IFrame at 0x10731d710>"
      ]
     },
     "metadata": {},
     "output_type": "display_data"
    }
   ],
   "source": [
    "%%tutor --lang python3\n",
    "def other_func(my_list):\n",
    "    my_list.append(1)\n",
    "    return my_list\n",
    "\n",
    "this_list = [6, 9, 33]\n",
    "other_func(this_list)"
   ]
  },
  {
   "cell_type": "markdown",
   "metadata": {},
   "source": [
    "Напомним, что в Python есть мир объектов (в котором живут списки, словари, кортежи и т.д.) и мир имён: имена указывают на объекты, причём у одного и того же объекта может быть несколько имён (подробности см. в [лекции №2](http://nbviewer.ipython.org/github/ischurov/pythonhse/blob/master/Lecture%202.ipynb#%D0%9F%D1%80%D0%B8%D1%81%D0%B2%D0%BE%D0%B5%D0%BD%D0%B8%D0%B5-%D0%B8-%D0%BA%D0%BE%D0%BF%D0%B8%D1%80%D0%BE%D0%B2%D0%B0%D0%BD%D0%B8%D0%B5-%D1%81%D0%BF%D0%B8%D1%81%D0%BA%D0%BE%D0%B2)).\n",
    "\n",
    "Теперь вернёмся к нашей визуализации. На первом шаге создаётся функция `other_func`, а на втором — список `this_list`. Самое странное происходит на следующем шаге: после того, как мы попадаем в функцию `other_func` (Step 4), переменная `my_list` (находящаяся во фрейме `other_func`, то есть это локальна переменная, созданная внутри функции) указывает ровно на тот же самый список, что и глобальная переменная `this_list` (которая сама по себе изнутри функции не видна). \n",
    "\n",
    "> Это важный момент. Локальными могут быть переменные (имена), у них может быть ограниченная область видимости. Но все объекты (списки, словари, кортежи, что угодно) могут быть доступны из любой функции, если ей была передана ссылка на этот объект. Более того, когда мы передаём функции какой-нибудь объект, на самом деле передаётся именно *ссылка* на него: сам объект не копируется. Это позволяет сделать код эффективным: если объект большой и занимает много места в памяти, его копирование требовало бы много времени — если бы мы копировали весь объект целиком при каждом вызове функции, вызовы функций стали бы очень «дорогими» в смысле затрат времени (они и так недешёвые в Python, но по другим причинам). Если вы когда-нибудь изучали C или Pascal, вам может быть полезно знать: в Python не бывает передачи аргумента функции «по значению», аргументы *всегда* передаются «по ссылке».\n",
    "\n",
    "Далее, если объект является изменяемым (а список именно таков), то функция, получив ссылку на него, может его спокойно изменить, используя соответствующие методы.\n",
    "\n",
    "Почему же тогда аналогичная ситуация не происходит в примере с `my_func()` выше? Дело в том, что в том случае функции передано число. Число является неизменяемым объектом (как, кстати, и строки и некоторые другие более сложные типы данных). Невозможно подействовать на число 2 волшебной палочкой и превратить его в число 3 (или в любое другое), такой операции нет. А волшебная палочка, добавляющая в список новый элемент, есть — это метод `append()`. Единственная возможность увеличить значение переменной `x`, в которой лежало число 2, на единицу — это создать новое число (тройку), после чего сказать, что переменая `x` теперь будет указывать на это новое число. Именно этому соответствует строка `x = x + 1`: оператор присваивания (`=`) как раз и говорит, что теперь переменная `x` будет именем для нового объекта (который получается путём вычисления значения выражения `x + 1`).\n",
    "\n",
    "### Две сортировки\n",
    "Давайте рассмотрим ещё два примера, которые показывают различие между этими двумя сценариями — в них снова будут участвовать списки. Выполните две визуализации и найдите, в чём разница. После этого читайте дальше."
   ]
  },
  {
   "cell_type": "code",
   "execution_count": 7,
   "metadata": {
    "collapsed": false
   },
   "outputs": [
    {
     "data": {
      "text/html": [
       "\n",
       "        <iframe\n",
       "            width=\"90%\"\n",
       "            height=\"350\"\n",
       "            src=\"http://pythontutor.com/iframe-embed.html#code=def%20return_sorted%28my_list%29%3A%0A%20%20%20%20my_list%20%3D%20sorted%28my_list%29%0A%20%20%20%20return%20my_list%0A%0Athis_list%20%3D%20%5B33%2C%201%2C%2055%5D%0Aprint%28%22this_list%20before%20function%3A%22%2C%20this_list%29%0Aprint%28%22function%20returned%3A%22%2C%20return_sorted%28this_list%29%29%0Aprint%28%22this_list%20after%20function%3A%22%2C%20this_list%29&origin=opt-frontend.js&cumulative=false&heapPrimitives=false&textReferences=false&py=3&rawInputLstJSON=%5B%5D&curInstr=0&codeDivWidth=50%25&codeDivHeight=100%25\"\n",
       "            frameborder=\"0\"\n",
       "            allowfullscreen\n",
       "        ></iframe>\n",
       "        "
      ],
      "text/plain": [
       "<IPython.lib.display.IFrame at 0x10731d710>"
      ]
     },
     "metadata": {},
     "output_type": "display_data"
    }
   ],
   "source": [
    "%%tutor --lang python3\n",
    "def return_sorted(my_list):\n",
    "    my_list = sorted(my_list)\n",
    "    return my_list\n",
    "\n",
    "this_list = [33, 1, 55]\n",
    "print(\"this_list before function:\", this_list)\n",
    "print(\"function returned:\", return_sorted(this_list))\n",
    "print(\"this_list after function:\", this_list)"
   ]
  },
  {
   "cell_type": "code",
   "execution_count": 8,
   "metadata": {
    "collapsed": false
   },
   "outputs": [
    {
     "data": {
      "text/html": [
       "\n",
       "        <iframe\n",
       "            width=\"90%\"\n",
       "            height=\"350\"\n",
       "            src=\"http://pythontutor.com/iframe-embed.html#code=def%20sort_and_return%28my_list%29%3A%0A%20%20%20%20my_list.sort%28%29%0A%20%20%20%20return%20my_list%0A%0Athis_list%20%3D%20%5B33%2C%201%2C%2055%5D%0Aprint%28%22this_list%20before%20function%3A%22%2C%20this_list%29%0Aprint%28%22function%20returned%3A%22%2C%20sort_and_return%28this_list%29%29%0Aprint%28%22this_list%20after%20function%3A%22%2C%20this_list%29&origin=opt-frontend.js&cumulative=false&heapPrimitives=false&textReferences=false&py=3&rawInputLstJSON=%5B%5D&curInstr=0&codeDivWidth=50%25&codeDivHeight=100%25\"\n",
       "            frameborder=\"0\"\n",
       "            allowfullscreen\n",
       "        ></iframe>\n",
       "        "
      ],
      "text/plain": [
       "<IPython.lib.display.IFrame at 0x10731d710>"
      ]
     },
     "metadata": {},
     "output_type": "display_data"
    }
   ],
   "source": [
    "%%tutor --lang python3\n",
    "def sort_and_return(my_list):\n",
    "    my_list.sort()\n",
    "    return my_list\n",
    "\n",
    "this_list = [33, 1, 55]\n",
    "print(\"this_list before function:\", this_list)\n",
    "print(\"function returned:\", sort_and_return(this_list))\n",
    "print(\"this_list after function:\", this_list)"
   ]
  },
  {
   "cell_type": "markdown",
   "metadata": {},
   "source": [
    "Итак, в чём разница?\n",
    "\n",
    "Функции `return_sorted()` и `sort_and_return()` выполняют примерно одну и ту же работу: принимают на вход список, сортируют его и возвращают. В тот момент, когда происходит вход в функцию (Step 5), ситуация в обоих фрагментах идентична: вне функции есть переменная `this_list`, внутри функции есть переменная `my_list`, они обе указывают на один и тот же список. Ключевое различие происходит на следующем шаге. Функция `return_sorted()` использует функцию `sorted()`, создающую новый список. Затем она присваивает (`=`) результат выполнения `sorted()` переменной `my_list`. Это приводит к тому, что переменная с этим именем начинает ссылаться на новый объект (Step 7), а старый (на который по-прежнему ссылается `this_list`) остаётся в неприкосновенности. Совсем иначе действует `sort_and_return()` — она использует метод `sort()`, сортирующий список *in place*, внутри самого себя. При этом новый объект не создаётся, операция присваивания не используется и переменная `my_list` продолжает ссылаться на тот же список, что и раньше. Просто он оказывается отсортированным.\n",
    "\n",
    "Обратите внимание на схожесть `return_sorted()` и `my_func()` из примера выше: в обоих случаях используется оператор присваивания. Разница состоит в том, что с числовой переменной никак иначе поступить было нельзя, поскольку числа неизменяемы, а в случае со списком у разработчика есть выбор: можно создать новый объект и присвоить его старой переменной, а можно изменить уже существующий объект, не создавая новый.\n",
    "\n",
    "### Создание копии\n",
    "Предположим теперь, что мы хотим написать функцию, которая принимает на вход список, возвращает такой же список, но с одним добавленным элементом, а сам исходный список не меняет. Это можно сделать, например, вот так:"
   ]
  },
  {
   "cell_type": "code",
   "execution_count": 9,
   "metadata": {
    "collapsed": true
   },
   "outputs": [],
   "source": [
    "def return_append(L, a):\n",
    "    new_L = L.copy()\n",
    "    new_L.append(a)\n",
    "    return new_L"
   ]
  },
  {
   "cell_type": "code",
   "execution_count": 10,
   "metadata": {
    "collapsed": false
   },
   "outputs": [
    {
     "name": "stdout",
     "output_type": "stream",
     "text": [
      "outer_list before funciton [7, 8, 9]\n",
      "function returned [7, 8, 9, 55]\n",
      "outer_list after function [7, 8, 9]\n"
     ]
    }
   ],
   "source": [
    "outer_list = [7, 8, 9]\n",
    "print(\"outer_list before funciton\", outer_list)\n",
    "print(\"function returned\", return_append(outer_list, 55))\n",
    "print(\"outer_list after function\", outer_list)"
   ]
  },
  {
   "cell_type": "markdown",
   "metadata": {},
   "source": [
    "Здесь главная хитрость в использовании `L.copy()` — напомним, что этот метод создаёт копию существующего списка. Дальше мы снова выполняем операцию присваивания (то есть теперь `new_L` является именем для копии списка `L`, а не для самого списка `L`) и мы можем делать с этим новым списком `new_L` что угодно. Старый список не изменится."
   ]
  },
  {
   "cell_type": "markdown",
   "metadata": {},
   "source": [
    "### Не только вызовы функций\n",
    "Проблемы, аналогичные рассмотренным выше, возникают не только при вызове функций. Начнём с простого примера с циклом."
   ]
  },
  {
   "cell_type": "code",
   "execution_count": 11,
   "metadata": {
    "collapsed": false
   },
   "outputs": [
    {
     "name": "stdout",
     "output_type": "stream",
     "text": [
      "[7, 9, 11]\n"
     ]
    }
   ],
   "source": [
    "some_list = [7, 9, 11]\n",
    "for x in some_list:\n",
    "    x = x + 1\n",
    "print(some_list)"
   ]
  },
  {
   "cell_type": "markdown",
   "metadata": {},
   "source": [
    "Список `some_list` не поменялся, и в этом нет ничего удивительного. Но давайте теперь рассмотрим чуть более сложную ситуацию со списком списков."
   ]
  },
  {
   "cell_type": "code",
   "execution_count": 12,
   "metadata": {
    "collapsed": false
   },
   "outputs": [
    {
     "name": "stdout",
     "output_type": "stream",
     "text": [
      "[[1, 5, 77], [7, 9, 77]]\n"
     ]
    }
   ],
   "source": [
    "table = [[1, 5], [7, 9]]\n",
    "for row in table:\n",
    "    row.append(77)\n",
    "print(table)"
   ]
  },
  {
   "cell_type": "markdown",
   "metadata": {},
   "source": [
    "И снова «ой». Что случилось? Посмотрим на визуализаторе."
   ]
  },
  {
   "cell_type": "code",
   "execution_count": 13,
   "metadata": {
    "collapsed": false
   },
   "outputs": [
    {
     "data": {
      "text/html": [
       "\n",
       "        <iframe\n",
       "            width=\"90%\"\n",
       "            height=\"350\"\n",
       "            src=\"http://pythontutor.com/iframe-embed.html#code=table%20%3D%20%5B%5B1%2C%205%5D%2C%20%5B7%2C%209%5D%5D%0Afor%20row%20in%20table%3A%0A%20%20%20%20row.append%2877%29%0Aprint%28table%29&origin=opt-frontend.js&cumulative=false&heapPrimitives=false&textReferences=false&py=3&rawInputLstJSON=%5B%5D&curInstr=0&codeDivWidth=50%25&codeDivHeight=100%25\"\n",
       "            frameborder=\"0\"\n",
       "            allowfullscreen\n",
       "        ></iframe>\n",
       "        "
      ],
      "text/plain": [
       "<IPython.lib.display.IFrame at 0x10733b208>"
      ]
     },
     "metadata": {},
     "output_type": "display_data"
    }
   ],
   "source": [
    "%%tutor --lang python3\n",
    "table = [[1, 5], [7, 9]]\n",
    "for row in table:\n",
    "    row.append(77)\n",
    "print(table)"
   ]
  },
  {
   "cell_type": "markdown",
   "metadata": {},
   "source": [
    "При выполнении первого шага цикла (Step 3) в переменную `row` записывается первый элемент списока `table`. Однако, этот элемент сам является списком — а точнее ссылкой на список. На следующем шаге (Step 4) к этому списку добавляется элемент `77`. Потом `row` становится ссылкой на второй элемент списка `table`. К ней тоже добавляется элемент `77`.\n",
    "\n",
    "Обратите внимание на параллель с предыдущим сюжетом: здесь тоже участвует вызов метода списка, который меняет этот список *in place*."
   ]
  },
  {
   "cell_type": "markdown",
   "metadata": {},
   "source": [
    "### Головоломка\n",
    "Как вы думаете, что будет, если выполнить следующий код? Попробуйте его выполнить, посмотрите на результат и попытайтесь объяснить.\n",
    "\n",
    "```python\n",
    "A = [[]]*5\n",
    "A[0].append(1)\n",
    "print(A)\n",
    "```"
   ]
  },
  {
   "cell_type": "markdown",
   "metadata": {},
   "source": [
    "### Изменение итерируемого объекта в цикле"
   ]
  },
  {
   "cell_type": "markdown",
   "metadata": {},
   "source": [
    "В примере выше мы меняли содержимое «внутренних» списков, но сам список `table` оставался неизменным: в нём не менялось число элементов и элементы оставались ссылками на те же самые списки-строки, что и раньше. А можно ли менять сам список во время итераций? Оказывается, можно. Хотя в большинстве случаев лучше этого не делать. Прежде, чем рассматривать пример, напомним о том, как работает метод `pop()` у списка:"
   ]
  },
  {
   "cell_type": "code",
   "execution_count": 14,
   "metadata": {
    "collapsed": false
   },
   "outputs": [
    {
     "name": "stdout",
     "output_type": "stream",
     "text": [
      "8\n",
      "[6, 9, 44]\n"
     ]
    }
   ],
   "source": [
    "L = [6, 9, 44, 8]\n",
    "print(L.pop())\n",
    "print(L)"
   ]
  },
  {
   "cell_type": "markdown",
   "metadata": {},
   "source": [
    "Он удаляет последний элемент из списка и возвращает его же. Применим теперь его следующим образом:"
   ]
  },
  {
   "cell_type": "code",
   "execution_count": 15,
   "metadata": {
    "collapsed": false
   },
   "outputs": [
    {
     "name": "stdout",
     "output_type": "stream",
     "text": [
      "Pop element 10\n",
      "7\n",
      "Pop element 9\n",
      "8\n"
     ]
    }
   ],
   "source": [
    "L = [7, 8, 9, 10]\n",
    "for x in L:\n",
    "    print(\"Pop element\", L.pop())\n",
    "    print(x)"
   ]
  },
  {
   "cell_type": "markdown",
   "metadata": {},
   "source": [
    "Цикл исполняется два раза: к тому моменту, как цикл закончит обрабатывать элемент 8, элементы 9 и 10 из списка будут уже удалены, необработанных элементов в списке не останется и цикл прекратится.\n",
    "\n",
    "Догадаться о том, что произойдёт, можно лишь очень внимательно изучив код. Это значит, что код не очень хорош: глядя на хороший код, вы можете понять, что он будет делать."
   ]
  },
  {
   "cell_type": "markdown",
   "metadata": {},
   "source": [
    "Со словарями ситуация иная."
   ]
  },
  {
   "cell_type": "code",
   "execution_count": 16,
   "metadata": {
    "collapsed": false
   },
   "outputs": [
    {
     "name": "stdout",
     "output_type": "stream",
     "text": [
      "1 2\n"
     ]
    },
    {
     "ename": "RuntimeError",
     "evalue": "dictionary changed size during iteration",
     "output_type": "error",
     "traceback": [
      "\u001b[0;31m---------------------------------------------------------------------------\u001b[0m",
      "\u001b[0;31mRuntimeError\u001b[0m                              Traceback (most recent call last)",
      "\u001b[0;32m<ipython-input-16-41bfd3656279>\u001b[0m in \u001b[0;36m<module>\u001b[0;34m()\u001b[0m\n\u001b[1;32m      1\u001b[0m \u001b[0md\u001b[0m \u001b[0;34m=\u001b[0m \u001b[0;34m{\u001b[0m\u001b[0;36m1\u001b[0m\u001b[0;34m:\u001b[0m\u001b[0;36m2\u001b[0m\u001b[0;34m,\u001b[0m \u001b[0;36m3\u001b[0m\u001b[0;34m:\u001b[0m\u001b[0;36m4\u001b[0m\u001b[0;34m}\u001b[0m\u001b[0;34m\u001b[0m\u001b[0m\n\u001b[0;32m----> 2\u001b[0;31m \u001b[0;32mfor\u001b[0m \u001b[0mk\u001b[0m\u001b[0;34m,\u001b[0m \u001b[0mv\u001b[0m \u001b[0;32min\u001b[0m \u001b[0md\u001b[0m\u001b[0;34m.\u001b[0m\u001b[0mitems\u001b[0m\u001b[0;34m(\u001b[0m\u001b[0;34m)\u001b[0m\u001b[0;34m:\u001b[0m\u001b[0;34m\u001b[0m\u001b[0m\n\u001b[0m\u001b[1;32m      3\u001b[0m     \u001b[0;32mdel\u001b[0m \u001b[0md\u001b[0m\u001b[0;34m[\u001b[0m\u001b[0;36m3\u001b[0m\u001b[0;34m]\u001b[0m\u001b[0;34m\u001b[0m\u001b[0m\n\u001b[1;32m      4\u001b[0m     \u001b[0mprint\u001b[0m\u001b[0;34m(\u001b[0m\u001b[0mk\u001b[0m\u001b[0;34m,\u001b[0m \u001b[0mv\u001b[0m\u001b[0;34m)\u001b[0m\u001b[0;34m\u001b[0m\u001b[0m\n",
      "\u001b[0;31mRuntimeError\u001b[0m: dictionary changed size during iteration"
     ]
    }
   ],
   "source": [
    "d = {1:2, 3:4}\n",
    "for k, v in d.items():\n",
    "    del d[3]\n",
    "    print(k, v)"
   ]
  },
  {
   "cell_type": "markdown",
   "metadata": {},
   "source": [
    "Здесь команда `del d[3]` удаляет элемент с ключом `3` из словаря. Поскольку порядок итерирования элементов словаря не определён, как корректно продолжить итерации после того, как размер словаря был изменён, никто не знает. Поэтому такая операция запрещена.\n",
    "\n",
    "Однако, это не означает, что запрещено менять значение словаря при выполнении цикла. Например, мы хотим прибавить ко всем значениям число 1. Следующий наивный метод ожидаемо не сработает:"
   ]
  },
  {
   "cell_type": "code",
   "execution_count": 17,
   "metadata": {
    "collapsed": false
   },
   "outputs": [
    {
     "name": "stdout",
     "output_type": "stream",
     "text": [
      "{1: 2, 3: 4}\n"
     ]
    }
   ],
   "source": [
    "d={1:2, 3:4}\n",
    "for k, v in d.items():\n",
    "    v = v + 1\n",
    "print(d)"
   ]
  },
  {
   "cell_type": "markdown",
   "metadata": {},
   "source": [
    "На самом деле, эту задачу следует решать так:"
   ]
  },
  {
   "cell_type": "code",
   "execution_count": 18,
   "metadata": {
    "collapsed": false
   },
   "outputs": [
    {
     "name": "stdout",
     "output_type": "stream",
     "text": [
      "{1: 3, 3: 5}\n"
     ]
    }
   ],
   "source": [
    "d = {1:2, 3:4}\n",
    "for k in d:\n",
    "    d[k] = d[k] + 1\n",
    "print(d)"
   ]
  },
  {
   "cell_type": "markdown",
   "metadata": {},
   "source": [
    "### Множества"
   ]
  },
  {
   "cell_type": "markdown",
   "metadata": {},
   "source": [
    "Ещё один базовый тип данных в Python — это множество. Оно соответствует математическому понятию множества — то есть набора каких-то элементов. Каждый элемент может или входить в множество, или не входить.\n",
    "\n",
    "> Если вы в данный момент являетесь слушателем нашего курса по Python, то вы принадлежите множеству слушателей. Нельзя быть «дважды слушателем курса»: каждый элемент может входить в множество только один раз."
   ]
  },
  {
   "cell_type": "code",
   "execution_count": 19,
   "metadata": {
    "collapsed": true
   },
   "outputs": [],
   "source": [
    "my_set = {6, 9, 11, 11, 9, 'hello'}"
   ]
  },
  {
   "cell_type": "code",
   "execution_count": 20,
   "metadata": {
    "collapsed": false
   },
   "outputs": [
    {
     "data": {
      "text/plain": [
       "{11, 9, 'hello', 6}"
      ]
     },
     "execution_count": 20,
     "metadata": {},
     "output_type": "execute_result"
    }
   ],
   "source": [
    "my_set"
   ]
  },
  {
   "cell_type": "markdown",
   "metadata": {},
   "source": [
    "Как видно из этого простого примера, элементы множества также не упорядочены."
   ]
  },
  {
   "cell_type": "code",
   "execution_count": 21,
   "metadata": {
    "collapsed": false
   },
   "outputs": [
    {
     "data": {
      "text/plain": [
       "True"
      ]
     },
     "execution_count": 21,
     "metadata": {},
     "output_type": "execute_result"
    }
   ],
   "source": [
    "{6, 9, 11, 11, 9, 'hello'} == {9, 'hello', 11, 6}"
   ]
  },
  {
   "cell_type": "markdown",
   "metadata": {},
   "source": [
    "Вот так можно проверить, лежит ли элемент в множестве."
   ]
  },
  {
   "cell_type": "code",
   "execution_count": 22,
   "metadata": {
    "collapsed": false
   },
   "outputs": [
    {
     "data": {
      "text/plain": [
       "True"
      ]
     },
     "execution_count": 22,
     "metadata": {},
     "output_type": "execute_result"
    }
   ],
   "source": [
    "9 in my_set"
   ]
  },
  {
   "cell_type": "code",
   "execution_count": 23,
   "metadata": {
    "collapsed": false
   },
   "outputs": [
    {
     "data": {
      "text/plain": [
       "False"
      ]
     },
     "execution_count": 23,
     "metadata": {},
     "output_type": "execute_result"
    }
   ],
   "source": [
    "10 in my_set"
   ]
  },
  {
   "cell_type": "markdown",
   "metadata": {},
   "source": [
    "Конечно, оператор `in` работает не только для множеств. Например, `4 in [2, 4, 8, 10]` вернёт `True`. Однако для списков эта операция является медленной — вернее, *массовой*: чем больше список, тем больше операций сравнения нужно произвести, чтобы понять, лежит ли в нём какой-то конкретный элемент. В случае с множествами время на проверки практически не растёт с ростом числа элементов множества.\n",
    "\n",
    "С множествами можно делать разные операции — с ними мы знакомы по математическим курсам. Например, объединение и пересечение двух множеств даёт новое множество:"
   ]
  },
  {
   "cell_type": "code",
   "execution_count": 24,
   "metadata": {
    "collapsed": false
   },
   "outputs": [
    {
     "data": {
      "text/plain": [
       "{6, 7, 8, 9, 11}"
      ]
     },
     "execution_count": 24,
     "metadata": {},
     "output_type": "execute_result"
    }
   ],
   "source": [
    "{6, 8, 9} | {6, 11, 7}"
   ]
  },
  {
   "cell_type": "code",
   "execution_count": 25,
   "metadata": {
    "collapsed": false
   },
   "outputs": [
    {
     "data": {
      "text/plain": [
       "{6}"
      ]
     },
     "execution_count": 25,
     "metadata": {},
     "output_type": "execute_result"
    }
   ],
   "source": [
    "{6, 8, 9} & {6, 11, 7}"
   ]
  },
  {
   "cell_type": "markdown",
   "metadata": {},
   "source": [
    "> Отметим ещё раз: порядок элементов во множестве не определён. Если вам нужно вывести элементы множества в каком-то заранее заданном порядке, то можно превратить его в сортированный список с помощью функции `sorted()`."
   ]
  },
  {
   "cell_type": "code",
   "execution_count": 26,
   "metadata": {
    "collapsed": false
   },
   "outputs": [
    {
     "name": "stdout",
     "output_type": "stream",
     "text": [
      "{'World', 'Guest', 'Hello', 'Q', 'Zzzzz', 'Aaaaa', 'Test', 'Zz'}\n",
      "['Aaaaa', 'Guest', 'Hello', 'Q', 'Test', 'World', 'Zz', 'Zzzzz']\n"
     ]
    }
   ],
   "source": [
    "s = {\"Hello\", \"World\", \"Test\", \"Guest\", \"Aaaaa\", \"Zzzzz\",\"Zz\",\"Q\"}\n",
    "print(s)\n",
    "print(sorted(s)) # здесь выводится уже не множество, а список: обратите внимание на квадратные скобки"
   ]
  },
  {
   "cell_type": "markdown",
   "metadata": {},
   "source": [
    "### Пример использования множеств\n",
    "\n",
    "допустим, мы просим пользователя ввести команду, но хотим дать ему возможность ввести одну и ту же команду разными способами. Например, чтобы остановить программу, пользователь может ввести слово `stop` или `STOP` или `Stop` или просто букву `s` или `S`. Можно обработать этот случай с помощью нескольких условий, соединённых `or`:"
   ]
  },
  {
   "cell_type": "code",
   "execution_count": 27,
   "metadata": {
    "collapsed": false
   },
   "outputs": [
    {
     "name": "stdout",
     "output_type": "stream",
     "text": [
      "Okay, stopping\n"
     ]
    }
   ],
   "source": [
    "s = 'stop'\n",
    "if s == 'stop' or s == 'Stop' or s == 'STOP' or s == 'S' or s == 's':\n",
    "    print(\"Okay, stopping\")"
   ]
  },
  {
   "cell_type": "markdown",
   "metadata": {},
   "source": [
    "А можно создать множество для всех возможных вариаций команды `stop` и проверять, входит ли наша команда в это множество:"
   ]
  },
  {
   "cell_type": "code",
   "execution_count": 28,
   "metadata": {
    "collapsed": false
   },
   "outputs": [
    {
     "name": "stdout",
     "output_type": "stream",
     "text": [
      "Okay, stopping\n"
     ]
    }
   ],
   "source": [
    "s = 'stop'\n",
    "STOPS = {'stop', 'Stop', 'STOP', 'S', 's'}\n",
    "if s in STOPS:\n",
    "    print(\"Okay, stopping\")    "
   ]
  },
  {
   "cell_type": "markdown",
   "metadata": {},
   "source": [
    "Впрочем, в этом месте, вероятно, вместо множества можно было бы использовать и просто список."
   ]
  },
  {
   "cell_type": "markdown",
   "metadata": {},
   "source": [
    "### Ещё немного про строки"
   ]
  },
  {
   "cell_type": "markdown",
   "metadata": {},
   "source": [
    "Я давно собирался рассказать про методы для работы со строками. Вообще этих методов существует много и про все не расскажу, но некоторые из них мы сейчас обсудим."
   ]
  },
  {
   "cell_type": "code",
   "execution_count": 29,
   "metadata": {
    "collapsed": false
   },
   "outputs": [
    {
     "name": "stdout",
     "output_type": "stream",
     "text": [
      "Hi world, Hi\n",
      "hello world, hello\n"
     ]
    }
   ],
   "source": [
    "s = \"hello world, hello\"\n",
    "new_s = s.replace(\"hello\", \"Hi\")\n",
    "print(new_s)\n",
    "print(s)"
   ]
  },
  {
   "cell_type": "markdown",
   "metadata": {},
   "source": [
    "Вот так, например, можно заменить подстроку в строке. Обратите внимание: строка является неизменяемым типом данных, поэтому, в отличие от методов списков типа `append()` методы строк никогда не меняют саму строку (это вообще невозможно), а вместо этого создают новую строку и возвращают результат.\n",
    "\n",
    "Если вы хотели заменить только несколько первых вхождений (например, только первое слово `hello`, но не второе), можно было добавить третий аргумент метода `replace` — он показывает, сколько раз нужно произвести замену."
   ]
  },
  {
   "cell_type": "code",
   "execution_count": 30,
   "metadata": {
    "collapsed": false
   },
   "outputs": [
    {
     "data": {
      "text/plain": [
       "'Hi world, hello'"
      ]
     },
     "execution_count": 30,
     "metadata": {},
     "output_type": "execute_result"
    }
   ],
   "source": [
    "\"hello world, hello\".replace(\"hello\", \"Hi\", 1)"
   ]
  },
  {
   "cell_type": "markdown",
   "metadata": {},
   "source": [
    "Вот так можно найти подстроку в строке:"
   ]
  },
  {
   "cell_type": "code",
   "execution_count": 31,
   "metadata": {
    "collapsed": false
   },
   "outputs": [
    {
     "data": {
      "text/plain": [
       "6"
      ]
     },
     "execution_count": 31,
     "metadata": {},
     "output_type": "execute_result"
    }
   ],
   "source": [
    "s.index(\"world\")"
   ]
  },
  {
   "cell_type": "code",
   "execution_count": 32,
   "metadata": {
    "collapsed": false
   },
   "outputs": [
    {
     "data": {
      "text/plain": [
       "6"
      ]
     },
     "execution_count": 32,
     "metadata": {},
     "output_type": "execute_result"
    }
   ],
   "source": [
    "s.find(\"world\")"
   ]
  },
  {
   "cell_type": "markdown",
   "metadata": {},
   "source": [
    "Оба метода возвращают индекс первого символа подстроки. Разница состоит в том, что если `index()` не сможет найти подстроку вообще, он выдаст ошибку (exception), а если с аналогичной проблемой столкнётся `find()`, то он вернёт число `-1` в качестве индекса.\n",
    "\n",
    "Кстати, проверить, входит ли подстрока в строку, можно ещё вот так:"
   ]
  },
  {
   "cell_type": "code",
   "execution_count": 33,
   "metadata": {
    "collapsed": false
   },
   "outputs": [
    {
     "data": {
      "text/plain": [
       "True"
      ]
     },
     "execution_count": 33,
     "metadata": {},
     "output_type": "execute_result"
    }
   ],
   "source": [
    "\"world\" in s"
   ]
  },
  {
   "cell_type": "markdown",
   "metadata": {},
   "source": [
    "А вот так можно посчитать, сколько подстрок в строке встречается:"
   ]
  },
  {
   "cell_type": "code",
   "execution_count": 34,
   "metadata": {
    "collapsed": false
   },
   "outputs": [
    {
     "data": {
      "text/plain": [
       "3"
      ]
     },
     "execution_count": 34,
     "metadata": {},
     "output_type": "execute_result"
    }
   ],
   "source": [
    "s.count(\"o\")"
   ]
  },
  {
   "cell_type": "markdown",
   "metadata": {},
   "source": [
    "Подробности можно найти в [официциальной справке](https://docs.python.org/3/library/string.html)."
   ]
  },
  {
   "cell_type": "markdown",
   "metadata": {},
   "source": [
    "### Файловый ввод-вывод"
   ]
  },
  {
   "cell_type": "markdown",
   "metadata": {},
   "source": [
    "Мы начинаем работать с файлами. Сейчас будем обсуждать только чтение и запись. О том, как запускать файлы на исполнение, отдельная история — для этого существует метод `subprocess`, мы до него когда-нибудь дойдём. (Может быть.) Также для начала речь пойдёт о текстовых файлах или похожих на текстовые (например, код на Python или CSV-файл будет текстовым). Бывают также бинарные файлы, которые «глазками» читать бесполезно — о некоторых из них будет отдельный рассказ.\n",
    "\n",
    "Допустим, мы хотим прочитать файл."
   ]
  },
  {
   "cell_type": "code",
   "execution_count": 35,
   "metadata": {
    "collapsed": false
   },
   "outputs": [
    {
     "name": "stdout",
     "output_type": "stream",
     "text": [
      "blockdiag {\n",
      "    args [label=\"Аргументы\"]\n",
      "    function [label=\"Функция\"]\n",
      "    sideffects [label=\"Сторонние эффекты\"]\n",
      "    output [label=\"Возвращаемое значение\"]\n",
      "\n",
      "    args -> function -> output;\n",
      "    function -> sideffects;\n",
      "}\n",
      "\n"
     ]
    }
   ],
   "source": [
    "f = open(\"func.txt\")\n",
    "s = f.read()\n",
    "f.close()\n",
    "print(s)"
   ]
  },
  {
   "cell_type": "markdown",
   "metadata": {},
   "source": [
    "Что здесь произошло? Во-первых, мы открыли для чтения файл `func.txt`, лежащий в нашем текущем рабочем каталоге. Узнать, какой каталог рабочий, можно следующим образом:"
   ]
  },
  {
   "cell_type": "code",
   "execution_count": 36,
   "metadata": {
    "collapsed": false
   },
   "outputs": [
    {
     "data": {
      "text/plain": [
       "'/Users/user/prj/oldhse-2010-11/repo/2015-16/all-python'"
      ]
     },
     "execution_count": 36,
     "metadata": {},
     "output_type": "execute_result"
    }
   ],
   "source": [
    "import os\n",
    "os.getcwd()"
   ]
  },
  {
   "cell_type": "markdown",
   "metadata": {},
   "source": [
    "Функция `open()` вернула объект типа `file` — переменную, которую можно использовать, чтобы работать с файлом. Затем мы считали содержимое файла в строчку `s`, после чего закрыли файл. Закрывать файлы очень полезно: если вы забудете закрыть файл, другое приложение не сможет его открыть (например, чтобы в него что-нибудь записать).\n"
   ]
  },
  {
   "cell_type": "markdown",
   "metadata": {},
   "source": [
    "Функция `read()` считает весь файл в одну большую строковую переменную. Это не всегда бывает удобно (учитывая, что строки в Python неизменяемые и из-за этого работа с ними не всегда бывает эффективной), поэтому есть разные другие сценарии работы с файлами. Например, можно считать содержимое файла в список, разбив по строкам."
   ]
  },
  {
   "cell_type": "code",
   "execution_count": 37,
   "metadata": {
    "collapsed": true
   },
   "outputs": [],
   "source": [
    "f = open(\"func.txt\")\n",
    "lines = f.readlines()\n",
    "f.close()"
   ]
  },
  {
   "cell_type": "code",
   "execution_count": 38,
   "metadata": {
    "collapsed": false
   },
   "outputs": [
    {
     "name": "stdout",
     "output_type": "stream",
     "text": [
      "['blockdiag {\\n', '    args [label=\"Аргументы\"]\\n', '    function [label=\"Функция\"]\\n', '    sideffects [label=\"Сторонние эффекты\"]\\n', '    output [label=\"Возвращаемое значение\"]\\n', '\\n', '    args -> function -> output;\\n', '    function -> sideffects;\\n', '}\\n']\n"
     ]
    }
   ],
   "source": [
    "print(lines)"
   ]
  },
  {
   "cell_type": "markdown",
   "metadata": {},
   "source": [
    "Заметим, что каждая из строк заканивается символом перевода строки `\\n` — они присутствовали в файле и мы их честно из него считали. Вот так можно вывести файл по строкам, пронумеровав их:"
   ]
  },
  {
   "cell_type": "code",
   "execution_count": 39,
   "metadata": {
    "collapsed": false
   },
   "outputs": [
    {
     "name": "stdout",
     "output_type": "stream",
     "text": [
      "1 blockdiag {\n",
      "2     args [label=\"Аргументы\"]\n",
      "3     function [label=\"Функция\"]\n",
      "4     sideffects [label=\"Сторонние эффекты\"]\n",
      "5     output [label=\"Возвращаемое значение\"]\n",
      "6 \n",
      "7     args -> function -> output;\n",
      "8     function -> sideffects;\n",
      "9 }\n"
     ]
    }
   ],
   "source": [
    "for i, line in enumerate(lines, 1):\n",
    "    print(i, line, end=\"\")"
   ]
  },
  {
   "cell_type": "markdown",
   "metadata": {},
   "source": [
    "Другой способ это сделать — не создавать отдельный список, а итерировать прямо сразу файловый объект."
   ]
  },
  {
   "cell_type": "code",
   "execution_count": 40,
   "metadata": {
    "collapsed": false
   },
   "outputs": [
    {
     "name": "stdout",
     "output_type": "stream",
     "text": [
      "1 blockdiag {\n",
      "2     args [label=\"Аргументы\"]\n",
      "3     function [label=\"Функция\"]\n",
      "4     sideffects [label=\"Сторонние эффекты\"]\n",
      "5     output [label=\"Возвращаемое значение\"]\n",
      "6 \n",
      "7     args -> function -> output;\n",
      "8     function -> sideffects;\n",
      "9 }\n"
     ]
    }
   ],
   "source": [
    "f = open(\"func.txt\")\n",
    "for i, line in enumerate(f, 1):\n",
    "    print(i, line, end=\"\")\n",
    "f.close()"
   ]
  },
  {
   "cell_type": "markdown",
   "metadata": {},
   "source": [
    "Этот метод является более предпочтительным, если файл большой. В этом случае считать его в память целиком может быть невозможно, а обработать по одной строчке — вполне возможно.\n",
    "\n",
    "Здесь есть, правда, некоторые хитрости. Рассмотрим, например, такой код:"
   ]
  },
  {
   "cell_type": "code",
   "execution_count": 41,
   "metadata": {
    "collapsed": false
   },
   "outputs": [
    {
     "name": "stdout",
     "output_type": "stream",
     "text": [
      "blockdiag {\n",
      "    args [label=\"Аргументы\"]\n",
      "    function [label=\"Функция\"]\n",
      "    sideffects [label=\"Сторонние эффекты\"]\n",
      "    output [label=\"Возвращаемое значение\"]\n",
      "\n",
      "    args -> function -> output;\n",
      "    function -> sideffects;\n",
      "}\n",
      "----The next one----\n"
     ]
    }
   ],
   "source": [
    "f = open(\"func.txt\")\n",
    "for line in f:\n",
    "    print(line, end=\"\")\n",
    "print(\"----The next one----\")\n",
    "for line in f:\n",
    "    print(line, end=\"\")\n",
    "f.close()"
   ]
  },
  {
   "cell_type": "markdown",
   "metadata": {},
   "source": [
    "Что здесь произошло? Почему второй цикл вообще не выполнился (ничего не выведено после строчки `----The next one----`)? Очень просто: переменная `f`, хоть и прикидывается списком строк, когда мы её итерируем, на самом деле таковым не является. В действительности при открытии файла мы запоминаем позицию, на которой мы этот файл читаем. Изначально она указывает на самое начало файла, но с каждой итерацией сдвигается. Когда мы прочитаем файл целиком, дальнейшие попытки из него что-то прочитать ни к чему не приведут: указатель текущей позиции сдвинулся до самого конца и файл закончился.\n",
    "\n",
    "Впрочем, есть возможность вернуться в начало: для этого нужно использовать метод `seek()`."
   ]
  },
  {
   "cell_type": "code",
   "execution_count": 42,
   "metadata": {
    "collapsed": false
   },
   "outputs": [
    {
     "name": "stdout",
     "output_type": "stream",
     "text": [
      "blockdiag {\n",
      "    args [label=\"Аргументы\"]\n",
      "    function [label=\"Функция\"]\n",
      "    sideffects [label=\"Сторонние эффекты\"]\n",
      "    output [label=\"Возвращаемое значение\"]\n",
      "\n",
      "    args -> function -> output;\n",
      "    function -> sideffects;\n",
      "}\n",
      "----The next one----\n",
      "blockdiag {\n",
      "    args [label=\"Аргументы\"]\n",
      "    function [label=\"Функция\"]\n",
      "    sideffects [label=\"Сторонние эффекты\"]\n",
      "    output [label=\"Возвращаемое значение\"]\n",
      "\n",
      "    args -> function -> output;\n",
      "    function -> sideffects;\n",
      "}\n"
     ]
    }
   ],
   "source": [
    "f = open(\"func.txt\")\n",
    "for line in f:\n",
    "    print(line, end=\"\")\n",
    "print(\"----The next one----\")\n",
    "f.seek(0)\n",
    "for line in f:\n",
    "    print(line, end=\"\")\n",
    "f.close()"
   ]
  },
  {
   "cell_type": "markdown",
   "metadata": {},
   "source": [
    "### Запись в файлы"
   ]
  },
  {
   "cell_type": "markdown",
   "metadata": {},
   "source": [
    "Чтобы содать файл и записать в него что-то, нужно открыть его *на запись*. Это делается путём передачи функции `open` второго аргумента — здесь надо написать строчку `\"w\"` (от *write*).\n",
    "\n",
    "> **Внимание!** Если файл, который вы пытаетесь открыть на запись, уже существует, он будет **удалён без какого-либо предупреждения**."
   ]
  },
  {
   "cell_type": "markdown",
   "metadata": {},
   "source": [
    "Записывать информацию в файл, открытый на запись, можно, например, с помощью метода `write()`."
   ]
  },
  {
   "cell_type": "code",
   "execution_count": 43,
   "metadata": {
    "collapsed": true
   },
   "outputs": [],
   "source": [
    "f = open(\"other.txt\", \"w\")\n",
    "f.write(\"Hello\\n\")\n",
    "f.close()"
   ]
  },
  {
   "cell_type": "markdown",
   "metadata": {},
   "source": [
    "Проверим, что получилось:"
   ]
  },
  {
   "cell_type": "code",
   "execution_count": 44,
   "metadata": {
    "collapsed": false
   },
   "outputs": [
    {
     "name": "stderr",
     "output_type": "stream",
     "text": [
      "/usr/local/lib/python3.5/site-packages/ipykernel/__main__.py:1: ResourceWarning: unclosed file <_io.TextIOWrapper name='other.txt' mode='r' encoding='UTF-8'>\n",
      "  if __name__ == '__main__':\n"
     ]
    },
    {
     "data": {
      "text/plain": [
       "'Hello\\n'"
      ]
     },
     "execution_count": 44,
     "metadata": {},
     "output_type": "execute_result"
    }
   ],
   "source": [
    "open('other.txt').read()"
   ]
  },
  {
   "cell_type": "markdown",
   "metadata": {},
   "source": [
    "Мы видим, что действительно записали в файл `other.txt` строчку `Hello\\n`. Заметим, что здесь мы открыли файл на запись, но не стали присваивать файловый объект какой-либо переменной, а сразу вызвали от него метод `read()`. В этом случае файл будет закрыт автоматически через некоторое время после выполнения этой команды. (Система выдаёт предупреждение о том, что мы не закрыли файл явно — в некоторых случаях это может приводить к каким-то проблемам.)"
   ]
  },
  {
   "cell_type": "markdown",
   "metadata": {},
   "source": [
    "Есть и другие методы для работы с файлами, но на сегодня это всё."
   ]
  }
 ],
 "metadata": {
  "kernelspec": {
   "display_name": "Python 3",
   "language": "python",
   "name": "python3"
  },
  "language_info": {
   "codemirror_mode": {
    "name": "ipython",
    "version": 3
   },
   "file_extension": ".py",
   "mimetype": "text/x-python",
   "name": "python",
   "nbconvert_exporter": "python",
   "pygments_lexer": "ipython3",
   "version": "3.5.0"
  }
 },
 "nbformat": 4,
 "nbformat_minor": 0
}
